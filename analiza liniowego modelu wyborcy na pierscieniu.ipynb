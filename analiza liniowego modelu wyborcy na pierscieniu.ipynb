{
 "cells": [
  {
   "cell_type": "markdown",
   "metadata": {},
   "source": [
    "   # Analiza liniowego modelu wyborcy na pierścieniu"
   ]
  },
  {
   "cell_type": "code",
   "execution_count": 2,
   "metadata": {},
   "outputs": [],
   "source": [
    "using DelimitedFiles\n",
    "using Plots\n",
    "using LaTeXStrings\n",
    "using PGFPlotsX"
   ]
  },
  {
   "cell_type": "markdown",
   "metadata": {},
   "source": [
    "# 1.Funkcje pomocnicze:"
   ]
  },
  {
   "cell_type": "markdown",
   "metadata": {},
   "source": [
    "## 1.1 Funkcja do generowania opini\n",
    "Zależna od długości wektora N oraz $\\Delta$x"
   ]
  },
  {
   "cell_type": "code",
   "execution_count": 3,
   "metadata": {},
   "outputs": [
    {
     "data": {
      "text/plain": [
       "generator_opini (generic function with 1 method)"
      ]
     },
     "execution_count": 3,
     "metadata": {},
     "output_type": "execute_result"
    }
   ],
   "source": [
    "function generator_opini(N,dx)\n",
    "    macierz=ones(N)*(-1) #generujemy macierz z negatywnymi opiniami\n",
    "    \n",
    "    while count(i->(i==1),macierz)<dx*N #przekształcamy macierz tak aby ilosc pozytywnych opini byla rowna dx*N\n",
    "        k=rand(1:N)\n",
    "        macierz[k]=1\n",
    "    end\n",
    "    return macierz\n",
    "end"
   ]
  },
  {
   "cell_type": "markdown",
   "metadata": {},
   "source": [
    "## 1.2. Funkcja do wyliczania prawdopodobieństwa pozytywnego konsensusu (dla pojedyńczej wartości x), oraz czasu uporządkowania\n",
    "Zależna od parametru N (długości wektora), x(koncentracja pozytywnej opini), L (ilości kroków Monte Carlo)"
   ]
  },
  {
   "cell_type": "code",
   "execution_count": 4,
   "metadata": {},
   "outputs": [
    {
     "data": {
      "text/plain": [
       "analiza (generic function with 1 method)"
      ]
     },
     "execution_count": 4,
     "metadata": {},
     "output_type": "execute_result"
    }
   ],
   "source": [
    "function analiza(N,x,L)\n",
    "    konsensus=0\n",
    "    T=0\n",
    "    for i=1:L\n",
    "        czasMC=0\n",
    "        agenci=generator_opini(N,x) #agenci z opiniami\n",
    "        start=1\n",
    "        while start==1 #losujemy tak dlugo az nasz stan uporzadkuje sie w jedna strone\n",
    "            for i=1:N\n",
    "                sluchajacy=rand(1:N) #losujemy słuchającego z agentów\n",
    "\n",
    "                if sluchajacy == 1 #jeśli wylosowany sluchajacy bedzie pierwszy\n",
    "                    sasiad=rand([N,sluchajacy+1]) #sasiadem bedzie 2 element w liscie albo ostatni\n",
    "                elseif sluchajacy == N #jesli wylosowany sluchajacy bedzie ostatni\n",
    "                    sasiad=rand([1,sluchajacy-1])\n",
    "                else\n",
    "                    sasiad=rand([sluchajacy-1,sluchajacy+1])\n",
    "                end\n",
    "                agenci[sluchajacy]=agenci[sasiad] #opinia sluchajacego staje sie opinia sasiada\n",
    "            end\n",
    "            \n",
    "            if agenci==ones(N) || agenci==ones(N)*(-1)\n",
    "                start=0\n",
    "                T+=czasMC\n",
    "            end\n",
    "            czasMC+=1\n",
    "        end\n",
    "        \n",
    "        if agenci==ones(N) #sprawdzamy czy nasz stan się uporządkował pozytywnie\n",
    "           konsensus+=1\n",
    "        end\n",
    "    end\n",
    "    prawdopodobienstwo=konsensus/L\n",
    "    return x,prawdopodobienstwo,T/L \n",
    "end"
   ]
  },
  {
   "cell_type": "markdown",
   "metadata": {},
   "source": [
    "# 2.Funkcja główna"
   ]
  },
  {
   "cell_type": "markdown",
   "metadata": {},
   "source": [
    "## 2.Funkcja do wyliczania prawdopodobieństwa pozytywnego konsensusu (na przedziale [0,1] z zadanym krokiem $\\Delta$x), oraz czasu uporządkowania (jako wynik zwraca plik tekstowy z 3 kolumnami)\n",
    "Zależna od parametru N (długości wektora), $\\Delta$x, L (ilości kroków Monte Carlo)"
   ]
  },
  {
   "cell_type": "code",
   "execution_count": 5,
   "metadata": {},
   "outputs": [
    {
     "data": {
      "text/plain": [
       "analiza_glowna (generic function with 1 method)"
      ]
     },
     "execution_count": 5,
     "metadata": {},
     "output_type": "execute_result"
    }
   ],
   "source": [
    "function analiza_glowna(N,dx,L)\n",
    "    xs=0:dx:1\n",
    "    open(\"N$(N)_dx$(dx)_L$(L).txt\", \"w\")\n",
    "    for x in xs\n",
    "        wartosci=analiza(N,x,L)\n",
    "        open(\"N$(N)_dx$(dx)_L$(L).txt\", \"a\") do io\n",
    "                   writedlm(io, [wartosci])\n",
    "        end\n",
    "    end\n",
    "end"
   ]
  },
  {
   "cell_type": "markdown",
   "metadata": {},
   "source": [
    "## Symulacje dla  L=500, N=100,200,300 oraz $\\Delta$x=0.05"
   ]
  },
  {
   "cell_type": "code",
   "execution_count": 5,
   "metadata": {},
   "outputs": [],
   "source": [
    "dx=0.05\n",
    "L=500\n",
    "\n",
    "N1=100\n",
    "N2=200\n",
    "N3=300\n",
    "\n",
    "analiza_glowna(N1,dx,L)\n",
    "analiza_glowna(N2,dx,L)\n",
    "analiza_glowna(N3,dx,L)"
   ]
  },
  {
   "cell_type": "markdown",
   "metadata": {},
   "source": [
    "## Odczytujemy nasze wyliczone wartości z pliku oraz tworzymy wykresy"
   ]
  },
  {
   "cell_type": "code",
   "execution_count": 6,
   "metadata": {},
   "outputs": [],
   "source": [
    "X1=readdlm(\"N100_dx0.05_L500.txt\");\n",
    "X2=readdlm(\"N200_dx0.05_L500.txt\");\n",
    "X3=readdlm(\"N300_dx0.05_L500.txt\");"
   ]
  },
  {
   "cell_type": "code",
   "execution_count": 12,
   "metadata": {
    "scrolled": false
   },
   "outputs": [],
   "source": [
    "pgfplotsx()\n",
    "plot(X1[:,1],X1[:,2],xlabel=\"\\$\\\\frac{N_+(0)}{N}\\$\",markershape = :auto,title=\"Wykres prawdopodobieństwa konsensusu od koncentracji\",\n",
    "ylabel= \"\\$P_+\\$\",label=[\"N=100\"])\n",
    "plot!(X2[:,1],X2[:,2],markershape = :auto,label=[\"N=200\"])\n",
    "plot!(X3[:,1],X3[:,2],markershape = :auto,label=[\"N=300\"])\n",
    "savefig(\"wykres1.png\")"
   ]
  },
  {
   "cell_type": "code",
   "execution_count": 13,
   "metadata": {},
   "outputs": [],
   "source": [
    "pgfplotsx()\n",
    "plot(X1[:,1],X1[:,3],ylabel=\"\\$\\\\tau\\$\",markershape = :auto,title=\"Wykres czasu dochodzenia do konsensusu od koncentracji\",\n",
    "xlabel= \"\\$\\\\frac{N_+(0)}{N}\\$\",label=[\"N=100\"])\n",
    "plot!(X2[:,1],X2[:,3],markershape = :auto,label=[\"N=200\"])\n",
    "plot!(X3[:,1],X3[:,3],markershape = :auto,label=[\"N=300\"])\n",
    "savefig(\"wykres2.png\")"
   ]
  },
  {
   "cell_type": "markdown",
   "metadata": {},
   "source": [
    "# Symulacje dla L= $10^3$, $\\Delta$x=0.02 oraz N=$100 $,$250$,$500$"
   ]
  },
  {
   "cell_type": "code",
   "execution_count": 14,
   "metadata": {},
   "outputs": [],
   "source": [
    "dx=0.02\n",
    "L=10^3\n",
    "\n",
    "N1=100\n",
    "N2=250\n",
    "N3=500\n",
    "\n",
    "analiza_glowna(N1,dx,L)\n",
    "analiza_glowna(N2,dx,L)\n",
    "analiza_glowna(N3,dx,L)"
   ]
  },
  {
   "cell_type": "code",
   "execution_count": 15,
   "metadata": {},
   "outputs": [],
   "source": [
    "X1=readdlm(\"N100_dx0.02_L1000.txt\");\n",
    "X2=readdlm(\"N250_dx0.02_L1000.txt\");\n",
    "X3=readdlm(\"N500_dx0.02_L1000.txt\");"
   ]
  },
  {
   "cell_type": "code",
   "execution_count": 17,
   "metadata": {},
   "outputs": [],
   "source": [
    "pgfplotsx()\n",
    "plot(X1[:,1],X1[:,2],xlabel=\"\\$\\\\frac{N_+(0)}{N}\\$\",markershape = :auto,title=\"Wykres prawdopodobieństwa konsensusu od koncentracji\",\n",
    "ylabel= \"\\$P_+\\$\",label=[\"N=100\"])\n",
    "plot!(X2[:,1],X2[:,2],markershape = :auto,label=[\"N=250\"])\n",
    "plot!(X3[:,1],X3[:,2],markershape = :auto,label=[\"N=500\"])\n",
    "savefig(\"wykres1.png\")"
   ]
  },
  {
   "cell_type": "code",
   "execution_count": 19,
   "metadata": {},
   "outputs": [],
   "source": [
    "pgfplotsx()\n",
    "plot(X1[:,1],X1[:,3],ylabel=\"\\$\\\\tau\\$\",markershape = :auto,title=\"Wykres czasu dochodzenia do konsensusu od koncentracji\",\n",
    "xlabel= \"\\$\\\\frac{N_+(0)}{N}\\$\",label=[\"N=100\"])\n",
    "plot!(X2[:,1],X2[:,3],markershape = :auto,label=[\"N=250\"])\n",
    "plot!(X3[:,1],X3[:,3],markershape = :auto,label=[\"N=500\"])\n",
    "savefig(\"wykres2.png\")"
   ]
  },
  {
   "cell_type": "code",
   "execution_count": null,
   "metadata": {},
   "outputs": [],
   "source": []
  }
 ],
 "metadata": {
  "kernelspec": {
   "display_name": "Julia 1.4.2",
   "language": "julia",
   "name": "julia-1.4"
  },
  "language_info": {
   "file_extension": ".jl",
   "mimetype": "application/julia",
   "name": "julia",
   "version": "1.4.2"
  }
 },
 "nbformat": 4,
 "nbformat_minor": 4
}
